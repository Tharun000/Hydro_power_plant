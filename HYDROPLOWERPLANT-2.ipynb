{
 "cells": [
  {
   "cell_type": "code",
   "execution_count": 9,
   "metadata": {},
   "outputs": [],
   "source": [
    "import numpy as np\n",
    "import skfuzzy as fuzz\n",
    "from skfuzzy import control as ctrl"
   ]
  },
  {
   "cell_type": "code",
   "execution_count": 10,
   "metadata": {},
   "outputs": [],
   "source": [
    "import random\n",
    "import pandas as pd\n",
    "randomlist1,randomlist2=[],[]\n",
    "for i in range(0,500):\n",
    "    n1=random.randint(0,20)\n",
    "    n2=random.randint(0,100000)\n",
    "    randomlist1.append(n1)\n",
    "    randomlist2.append(n2)\n",
    "randomlist1.sort()\n",
    "randomlist2.sort()\n",
    "df=pd.DataFrame (randomlist1,columns=['Water_level'])\n",
    "df1=pd.DataFrame(randomlist2,columns=['Flow_rate'])\n",
    "horizontal_stack = pd.concat([df, df1], axis=1)\n",
    "#print(randomlist1,randomlist2)\n",
    "#horizontal_stack.to_csv(\"f1.csv\",index=False)\n",
    "df=pd.read_csv(\"f1.csv\")\n",
    "#df['Valve_control']\n",
    "#df['Drain_control']"
   ]
  },
  {
   "cell_type": "code",
   "execution_count": 11,
   "metadata": {},
   "outputs": [],
   "source": [
    "Water_level=ctrl.Antecedent(randomlist1,'Water_level')\n",
    "Flow_rate=ctrl.Antecedent(randomlist2,'Flow_rate')\n",
    "Valve_control=ctrl.Consequent(df['Valve_control'],\"Valve_control\")\n",
    "Drain_control=ctrl.Consequent(df['Drain_control'],\"Drain_control\")\n",
    "\n",
    "\n",
    "Water_level['Very_low']=fuzz.trimf(Water_level.universe,[0,0,5])\n",
    "Water_level['Low']=fuzz.trimf(Water_level.universe,[0,5,10])\n",
    "Water_level['Below_danger']=fuzz.trimf(Water_level.universe,[5,10,15])\n",
    "Water_level['Danger']=fuzz.trimf(Water_level.universe,[10,15,20])\n",
    "Water_level['Above_danger']=fuzz.trimf(Water_level.universe,[15,15,20])\n",
    "\n",
    "\n",
    "Flow_rate['Very_slow']=fuzz.trimf(Flow_rate.universe,[0,0,25000])\n",
    "Flow_rate['Slow']=fuzz.trimf(Flow_rate.universe,[0,25000,50000])\n",
    "Flow_rate['Normal']=fuzz.trimf(Flow_rate.universe,[25000,50000,75000])\n",
    "Flow_rate['Fast']=fuzz.trimf(Flow_rate.universe,[50000,75000,100000])\n",
    "Flow_rate['Very_fast']=fuzz.trimf(Flow_rate.universe,[75000,75000,100000])\n",
    "\n",
    "#Water_level.view()\n",
    "#Flow_rate.view()\n",
    "\n",
    "\n",
    "Valve_control['Fully_closed']=fuzz.trimf(Valve_control.universe,[0,0,25])\n",
    "Valve_control['25%_Opened']=fuzz.trimf(Valve_control.universe,[0,25,50])\n",
    "Valve_control['50%_Opened']=fuzz.trimf(Valve_control.universe,[25,50,75])\n",
    "Valve_control['75%_Opened']=fuzz.trimf(Valve_control.universe,[50,75,100])\n",
    "Valve_control['Fully_Opened']=fuzz.trimf(Valve_control.universe,[75,75,100])\n",
    "\n",
    "#Valve_control.view()\n",
    "\n",
    "Drain_control['Fully_close']=fuzz.trimf(Drain_control.universe,[0,0,25])\n",
    "Drain_control['25%_Open']=fuzz.trimf(Drain_control.universe,[0,25,55])\n",
    "Drain_control['50%_Open']=fuzz.trimf(Drain_control.universe,[25,55,80])\n",
    "Drain_control['75%_Open']=fuzz.trimf(Drain_control.universe,[50,75,95])\n",
    "Drain_control['Fully_Open']=fuzz.trimf(Drain_control.universe,[75,85,100])\n",
    "\n",
    "\n",
    "#Drain_control.view()"
   ]
  },
  {
   "cell_type": "code",
   "execution_count": 12,
   "metadata": {},
   "outputs": [],
   "source": [
    "r1=ctrl.Rule(Water_level['Very_low'] & Flow_rate['Very_slow'], Valve_control['Fully_closed'])\n",
    "r2=ctrl.Rule(Water_level['Very_low'] & Flow_rate['Slow'], Valve_control['Fully_closed'] )\n",
    "r3=ctrl.Rule(Water_level['Very_low'] & Flow_rate['Normal'], Valve_control['Fully_closed'])\n",
    "r4=ctrl.Rule(Water_level['Very_low'] & Flow_rate['Fast'], Valve_control['Fully_closed'] )\n",
    "r5=ctrl.Rule(Water_level['Very_low'] & Flow_rate['Very_fast'], Valve_control['Fully_closed'] )\n",
    "r6=ctrl.Rule(Water_level['Low'] & Flow_rate['Very_slow'], Valve_control['Fully_closed'] )\n",
    "r7=ctrl.Rule(Water_level['Low'] & Flow_rate['Slow'], Valve_control['Fully_closed'] )\n",
    "r8=ctrl.Rule(Water_level['Low'] & Flow_rate['Normal'], Valve_control['Fully_closed'] )\n",
    "r9=ctrl.Rule(Water_level['Low'] & Flow_rate['Fast'], Valve_control['Fully_closed'] )\n",
    "r10=ctrl.Rule(Water_level['Low'] & Flow_rate['Very_fast'], Valve_control['Fully_closed'] )\n",
    "r11=ctrl.Rule(Water_level['Below_danger'] & Flow_rate['Very_slow'], Valve_control['Fully_closed'] )\n",
    "r12=ctrl.Rule(Water_level['Below_danger'] & Flow_rate['Slow'], Valve_control['25%_Opened'] )\n",
    "r13=ctrl.Rule(Water_level['Below_danger'] & Flow_rate['Normal'], Valve_control['25%_Opened'] )\n",
    "r14=ctrl.Rule(Water_level['Below_danger'] & Flow_rate['Fast'], Valve_control['50%_Opened'] )\n",
    "r15=ctrl.Rule(Water_level['Below_danger'] & Flow_rate['Very_fast'], Valve_control['50%_Opened'] )\n",
    "r16=ctrl.Rule(Water_level['Danger'] & Flow_rate['Very_slow'], Valve_control['50%_Opened'] )\n",
    "r17=ctrl.Rule(Water_level['Danger'] & Flow_rate['Slow'], Valve_control['75%_Opened'] )\n",
    "r18=ctrl.Rule(Water_level['Danger'] & Flow_rate['Normal'], Valve_control['75%_Opened'] )\n",
    "r19=ctrl.Rule(Water_level['Danger'] & Flow_rate['Fast'], Valve_control['75%_Opened'] )\n",
    "r20=ctrl.Rule(Water_level['Danger'] & Flow_rate['Very_fast'], Valve_control['75%_Opened'] )\n",
    "r21=ctrl.Rule(Water_level['Above_danger'] & Flow_rate['Very_slow'], Valve_control['75%_Opened'] )\n",
    "r22=ctrl.Rule(Water_level['Above_danger'] & Flow_rate['Slow'], Valve_control['Fully_closed'] )\n",
    "r23=ctrl.Rule(Water_level['Above_danger'] & Flow_rate['Normal'], Valve_control['Fully_Opened'] )\n",
    "r24=ctrl.Rule(Water_level['Above_danger'] & Flow_rate['Fast'], Valve_control['Fully_Opened'] )\n",
    "r25=ctrl.Rule(Water_level['Above_danger'] & Flow_rate['Very_fast'], Valve_control['Fully_Opened'] )\n",
    "\n",
    "\n"
   ]
  },
  {
   "cell_type": "code",
   "execution_count": 13,
   "metadata": {},
   "outputs": [],
   "source": [
    "dam_control=ctrl.ControlSystem([r1,r2,r3,r4,r5,r6,r7,r8,r9,r10,r11,r12,r13,r14,r15,r16,r17,r18,r19,r20,r21,r22,r23,r24,r25])"
   ]
  },
  {
   "cell_type": "code",
   "execution_count": 14,
   "metadata": {},
   "outputs": [],
   "source": [
    "Dam = ctrl.ControlSystemSimulation(dam_control)"
   ]
  },
  {
   "cell_type": "code",
   "execution_count": 20,
   "metadata": {},
   "outputs": [
    {
     "name": "stdout",
     "output_type": "stream",
     "text": [
      "\n",
      "Valve control and drain control needs to be 75% opened\n",
      "\n"
     ]
    }
   ],
   "source": [
    "Dam.input['Water_level'] = 18\n",
    "Dam.input['Flow_rate'] = 98000\n",
    "\n",
    "# Crunch the numbers\n",
    "Dam.compute()\n",
    "#Once computed, we can view the result as well as visualize it.\n",
    "value=Dam.output['Valve_control']\n",
    "#print(value)\n",
    "\n",
    "\n",
    "print(\"\")\n",
    "\n",
    "\n",
    "if value<25:\n",
    "    print(\"Valve control and drain control needs to be fully closed\")\n",
    "elif value>=25 and value<50:\n",
    "    print(\"Valve control and drain control needs to be 25% opened\")\n",
    "elif value>=25 and value<65:\n",
    "    print(\"Valve control and drain control needs to be 50% opened\")\n",
    "elif value>=65 and value<90:\n",
    "    print(\"Valve control and drain control needs to be 75% opened\")\n",
    "else:\n",
    "    print(\"Valve control and drain control needs to be fully opened\")\n",
    "    \n",
    "\n",
    "print(\"\")\n",
    "    \n",
    "#Valve_control.view(sim=Dam)\n",
    "\n",
    "\n"
   ]
  },
  {
   "cell_type": "code",
   "execution_count": null,
   "metadata": {},
   "outputs": [],
   "source": []
  }
 ],
 "metadata": {
  "kernelspec": {
   "display_name": "Python 3",
   "language": "python",
   "name": "python3"
  },
  "language_info": {
   "codemirror_mode": {
    "name": "ipython",
    "version": 3
   },
   "file_extension": ".py",
   "mimetype": "text/x-python",
   "name": "python",
   "nbconvert_exporter": "python",
   "pygments_lexer": "ipython3",
   "version": "3.7.7"
  }
 },
 "nbformat": 4,
 "nbformat_minor": 4
}
